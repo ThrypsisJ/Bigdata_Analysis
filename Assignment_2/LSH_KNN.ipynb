{
 "cells": [
  {
   "cell_type": "markdown",
   "metadata": {},
   "source": [
    "# 데이터셋 불러오기"
   ]
  },
  {
   "cell_type": "code",
   "execution_count": 1,
   "metadata": {},
   "outputs": [
    {
     "name": "stdout",
     "output_type": "stream",
     "text": [
      "훈련셋\n"
     ]
    },
    {
     "data": {
      "text/html": [
       "<div>\n",
       "<style scoped>\n",
       "    .dataframe tbody tr th:only-of-type {\n",
       "        vertical-align: middle;\n",
       "    }\n",
       "\n",
       "    .dataframe tbody tr th {\n",
       "        vertical-align: top;\n",
       "    }\n",
       "\n",
       "    .dataframe thead th {\n",
       "        text-align: right;\n",
       "    }\n",
       "</style>\n",
       "<table border=\"1\" class=\"dataframe\">\n",
       "  <thead>\n",
       "    <tr style=\"text-align: right;\">\n",
       "      <th></th>\n",
       "      <th>data</th>\n",
       "      <th>labels</th>\n",
       "    </tr>\n",
       "  </thead>\n",
       "  <tbody>\n",
       "    <tr>\n",
       "      <th>0</th>\n",
       "      <td>[76, 161, 58, 138, 123, 75, 3, 93, 59, 60, 81,...</td>\n",
       "      <td>1</td>\n",
       "    </tr>\n",
       "    <tr>\n",
       "      <th>1</th>\n",
       "      <td>[7, 180, 8, 95, 191, 40, 46, 56, 88, 1, 120, 5...</td>\n",
       "      <td>1</td>\n",
       "    </tr>\n",
       "    <tr>\n",
       "      <th>2</th>\n",
       "      <td>[36, 145, 66, 88, 170, 109, 85, 86, 12, 78, 30...</td>\n",
       "      <td>1</td>\n",
       "    </tr>\n",
       "    <tr>\n",
       "      <th>3</th>\n",
       "      <td>[194, 69, 135, 18, 109, 132, 171, 162, 171, 17...</td>\n",
       "      <td>0</td>\n",
       "    </tr>\n",
       "    <tr>\n",
       "      <th>4</th>\n",
       "      <td>[174, 68, 152, 104, 18, 122, 120, 142, 112, 10...</td>\n",
       "      <td>0</td>\n",
       "    </tr>\n",
       "    <tr>\n",
       "      <th>...</th>\n",
       "      <td>...</td>\n",
       "      <td>...</td>\n",
       "    </tr>\n",
       "    <tr>\n",
       "      <th>9995</th>\n",
       "      <td>[75, 130, 38, 135, 144, 10, 93, 46, 35, 105, 1...</td>\n",
       "      <td>1</td>\n",
       "    </tr>\n",
       "    <tr>\n",
       "      <th>9996</th>\n",
       "      <td>[47, 173, 43, 87, 128, 30, 71, 7, 36, 79, 112,...</td>\n",
       "      <td>1</td>\n",
       "    </tr>\n",
       "    <tr>\n",
       "      <th>9997</th>\n",
       "      <td>[66, 195, 78, 199, 137, 16, 29, 66, 16, 72, 68...</td>\n",
       "      <td>1</td>\n",
       "    </tr>\n",
       "    <tr>\n",
       "      <th>9998</th>\n",
       "      <td>[113, 121, 14, 188, 169, 11, 42, 47, 80, 39, 1...</td>\n",
       "      <td>1</td>\n",
       "    </tr>\n",
       "    <tr>\n",
       "      <th>9999</th>\n",
       "      <td>[79, 199, 106, 191, 196, 86, 12, 98, 73, 25, 4...</td>\n",
       "      <td>1</td>\n",
       "    </tr>\n",
       "  </tbody>\n",
       "</table>\n",
       "<p>10000 rows × 2 columns</p>\n",
       "</div>"
      ],
      "text/plain": [
       "                                                   data  labels\n",
       "0     [76, 161, 58, 138, 123, 75, 3, 93, 59, 60, 81,...       1\n",
       "1     [7, 180, 8, 95, 191, 40, 46, 56, 88, 1, 120, 5...       1\n",
       "2     [36, 145, 66, 88, 170, 109, 85, 86, 12, 78, 30...       1\n",
       "3     [194, 69, 135, 18, 109, 132, 171, 162, 171, 17...       0\n",
       "4     [174, 68, 152, 104, 18, 122, 120, 142, 112, 10...       0\n",
       "...                                                 ...     ...\n",
       "9995  [75, 130, 38, 135, 144, 10, 93, 46, 35, 105, 1...       1\n",
       "9996  [47, 173, 43, 87, 128, 30, 71, 7, 36, 79, 112,...       1\n",
       "9997  [66, 195, 78, 199, 137, 16, 29, 66, 16, 72, 68...       1\n",
       "9998  [113, 121, 14, 188, 169, 11, 42, 47, 80, 39, 1...       1\n",
       "9999  [79, 199, 106, 191, 196, 86, 12, 98, 73, 25, 4...       1\n",
       "\n",
       "[10000 rows x 2 columns]"
      ]
     },
     "metadata": {},
     "output_type": "display_data"
    },
    {
     "name": "stdout",
     "output_type": "stream",
     "text": [
      "시험셋\n"
     ]
    },
    {
     "data": {
      "text/html": [
       "<div>\n",
       "<style scoped>\n",
       "    .dataframe tbody tr th:only-of-type {\n",
       "        vertical-align: middle;\n",
       "    }\n",
       "\n",
       "    .dataframe tbody tr th {\n",
       "        vertical-align: top;\n",
       "    }\n",
       "\n",
       "    .dataframe thead th {\n",
       "        text-align: right;\n",
       "    }\n",
       "</style>\n",
       "<table border=\"1\" class=\"dataframe\">\n",
       "  <thead>\n",
       "    <tr style=\"text-align: right;\">\n",
       "      <th></th>\n",
       "      <th>data</th>\n",
       "      <th>labels</th>\n",
       "    </tr>\n",
       "  </thead>\n",
       "  <tbody>\n",
       "    <tr>\n",
       "      <th>0</th>\n",
       "      <td>[95, 13, 122, 52, 72, 91, 167, 148, 191, 84, 1...</td>\n",
       "      <td>0</td>\n",
       "    </tr>\n",
       "    <tr>\n",
       "      <th>1</th>\n",
       "      <td>[73, 111, 7, 173, 84, 53, 65, 47, 22, 30, 55, ...</td>\n",
       "      <td>1</td>\n",
       "    </tr>\n",
       "    <tr>\n",
       "      <th>2</th>\n",
       "      <td>[109, 110, 169, 18, 79, 85, 128, 118, 183, 91,...</td>\n",
       "      <td>0</td>\n",
       "    </tr>\n",
       "    <tr>\n",
       "      <th>3</th>\n",
       "      <td>[122, 54, 169, 76, 71, 104, 103, 136, 98, 173,...</td>\n",
       "      <td>0</td>\n",
       "    </tr>\n",
       "    <tr>\n",
       "      <th>4</th>\n",
       "      <td>[6, 143, 59, 121, 138, 87, 51, 3, 84, 114, 98,...</td>\n",
       "      <td>1</td>\n",
       "    </tr>\n",
       "    <tr>\n",
       "      <th>...</th>\n",
       "      <td>...</td>\n",
       "      <td>...</td>\n",
       "    </tr>\n",
       "    <tr>\n",
       "      <th>9995</th>\n",
       "      <td>[190, 117, 126, 104, 102, 164, 152, 81, 110, 1...</td>\n",
       "      <td>0</td>\n",
       "    </tr>\n",
       "    <tr>\n",
       "      <th>9996</th>\n",
       "      <td>[174, 111, 175, 47, 90, 140, 105, 158, 170, 12...</td>\n",
       "      <td>0</td>\n",
       "    </tr>\n",
       "    <tr>\n",
       "      <th>9997</th>\n",
       "      <td>[156, 1, 86, 31, 40, 140, 195, 151, 185, 95, 1...</td>\n",
       "      <td>0</td>\n",
       "    </tr>\n",
       "    <tr>\n",
       "      <th>9998</th>\n",
       "      <td>[92, 96, 136, 29, 32, 118, 161, 122, 115, 99, ...</td>\n",
       "      <td>0</td>\n",
       "    </tr>\n",
       "    <tr>\n",
       "      <th>9999</th>\n",
       "      <td>[19, 137, 7, 133, 135, 12, 17, 47, 95, 37, 68,...</td>\n",
       "      <td>1</td>\n",
       "    </tr>\n",
       "  </tbody>\n",
       "</table>\n",
       "<p>10000 rows × 2 columns</p>\n",
       "</div>"
      ],
      "text/plain": [
       "                                                   data  labels\n",
       "0     [95, 13, 122, 52, 72, 91, 167, 148, 191, 84, 1...       0\n",
       "1     [73, 111, 7, 173, 84, 53, 65, 47, 22, 30, 55, ...       1\n",
       "2     [109, 110, 169, 18, 79, 85, 128, 118, 183, 91,...       0\n",
       "3     [122, 54, 169, 76, 71, 104, 103, 136, 98, 173,...       0\n",
       "4     [6, 143, 59, 121, 138, 87, 51, 3, 84, 114, 98,...       1\n",
       "...                                                 ...     ...\n",
       "9995  [190, 117, 126, 104, 102, 164, 152, 81, 110, 1...       0\n",
       "9996  [174, 111, 175, 47, 90, 140, 105, 158, 170, 12...       0\n",
       "9997  [156, 1, 86, 31, 40, 140, 195, 151, 185, 95, 1...       0\n",
       "9998  [92, 96, 136, 29, 32, 118, 161, 122, 115, 99, ...       0\n",
       "9999  [19, 137, 7, 133, 135, 12, 17, 47, 95, 37, 68,...       1\n",
       "\n",
       "[10000 rows x 2 columns]"
      ]
     },
     "metadata": {},
     "output_type": "display_data"
    }
   ],
   "source": [
    "import pandas as pd\n",
    "import numpy as np\n",
    "import pickle\n",
    "from tqdm.notebook import tqdm\n",
    "\n",
    "with open('./dataset.pkl', 'rb') as file: # 데이터셋 파일 불러오기\n",
    "    dataset = pickle.load(file)\n",
    "\n",
    "# 데이터셋을 훈련셋과 시험셋으로 나눔\n",
    "trainset = dataset.iloc[:10000].reset_index(drop=True)\n",
    "testset = dataset.iloc[10000:].reset_index(drop=True)\n",
    "\n",
    "print('훈련셋')\n",
    "display(trainset)\n",
    "\n",
    "print('시험셋')\n",
    "display(testset)"
   ]
  },
  {
   "cell_type": "markdown",
   "metadata": {},
   "source": [
    "# 해시함수 정의 (랜덤 프로젝션)"
   ]
  },
  {
   "cell_type": "code",
   "execution_count": 2,
   "metadata": {},
   "outputs": [
    {
     "data": {
      "text/plain": [
       "array([[1, 1, 0, ..., 0, 1, 0],\n",
       "       [1, 1, 0, ..., 0, 1, 0],\n",
       "       [1, 1, 0, ..., 1, 1, 0],\n",
       "       ...,\n",
       "       [1, 1, 0, ..., 1, 1, 0],\n",
       "       [1, 1, 1, ..., 0, 1, 0],\n",
       "       [1, 1, 0, ..., 1, 1, 0]])"
      ]
     },
     "metadata": {},
     "output_type": "display_data"
    },
    {
     "data": {
      "text/plain": [
       "array([1, 1, 1, ..., 1, 1, 1])"
      ]
     },
     "metadata": {},
     "output_type": "display_data"
    }
   ],
   "source": [
    "# 해시함수 정의 (랜덤프로젝션)\n",
    "projector = np.random.randn(100, 20)\n",
    "\n",
    "train_hashed = trainset['data'].to_list()\n",
    "train_hashed = np.stack(train_hashed)\n",
    "train_hashed = np.dot(train_hashed, projector)\n",
    "train_hashed = (train_hashed >= 0).astype(np.int64)\n",
    "display(train_hashed)\n",
    "\n",
    "train_labels = trainset['labels'].to_numpy()\n",
    "display(train_labels)\n",
    "\n",
    "test_hashed = testset['data'].apply(lambda x: (np.dot(x, projector) >= 0).astype(np.int64))"
   ]
  },
  {
   "cell_type": "markdown",
   "metadata": {},
   "source": [
    "# 시험셋 10000개에 대하여 예측을 수행"
   ]
  },
  {
   "cell_type": "code",
   "execution_count": 3,
   "metadata": {},
   "outputs": [
    {
     "data": {
      "application/vnd.jupyter.widget-view+json": {
       "model_id": "355ac1a3e8d049149311bf115006511f",
       "version_major": 2,
       "version_minor": 0
      },
      "text/plain": [
       "  0%|          | 0/10000 [00:00<?, ?it/s]"
      ]
     },
     "metadata": {},
     "output_type": "display_data"
    }
   ],
   "source": [
    "predicts = [0 for _ in range(len(test_hashed))]\n",
    "for idx in tqdm(range(len(test_hashed))):\n",
    "    input = test_hashed.iloc[idx]\n",
    "    distances = np.sum(((train_hashed==1) & (input==1)), axis=1)     # 모든 해시된 trainset 포인트들에 대하여 주어진 포인트와 Jaccard 거리 계산\n",
    "    indices = np.argpartition(distances, -10)[-10:]                # 가장 가까운 10개 포인트의 index들을 구함\n",
    "\n",
    "    neighbors = train_labels[indices].sum()                        # 가장 가까운 10개 포인트의 레이블을 확인하여 합을 구함 (1이 몇개인지)\n",
    "    predict = 1 if neighbors >= 5 else 0                           # 1이 5개 이상이면 1, 미만이면 0으로 예측\n",
    "    predicts[idx] = predict                                        # 예측 레이블 목록에 이번 포인트의 예측 결과를 집어넣음\n",
    "\n",
    "predicts = np.array(predicts)"
   ]
  },
  {
   "cell_type": "markdown",
   "metadata": {},
   "source": [
    "# Classification 성능 측정"
   ]
  },
  {
   "cell_type": "code",
   "execution_count": 4,
   "metadata": {},
   "outputs": [
    {
     "name": "stdout",
     "output_type": "stream",
     "text": [
      "Accuracy  : 95.94%\n",
      "Precision : 92.48%\n",
      "Recall    : 100.00%\n",
      "F1 score  : 0.96\n"
     ]
    }
   ],
   "source": [
    "GT = testset['labels'].to_numpy()           # Ground Truth\n",
    "TP = ((predicts == 1) & (GT == 1)).sum()    # True Positive\n",
    "FP = ((predicts == 1) & (GT == 0)).sum()    # False Positive\n",
    "TN = ((predicts == 0) & (GT == 0)).sum()    # True Negative\n",
    "FN = ((predicts == 0) & (GT == 1)).sum()    # False Negative\n",
    "\n",
    "accuracy = (TP+TN) / (TP+FP+TN+FN)\n",
    "precision = TP / (TP+FP)\n",
    "recall = TP / (TP+FN)\n",
    "f1 = 2 * precision * recall / (precision + recall)\n",
    "\n",
    "print(f'{\"Accuracy\":10s}: {accuracy*100:3.2f}%')\n",
    "print(f'{\"Precision\":10s}: {precision*100:3.2f}%')\n",
    "print(f'{\"Recall\":10s}: {recall*100:3.2f}%')\n",
    "print(f'{\"F1 score\":10s}: {f1:3.2f}')"
   ]
  },
  {
   "cell_type": "code",
   "execution_count": null,
   "metadata": {},
   "outputs": [],
   "source": []
  }
 ],
 "metadata": {
  "language_info": {
   "name": "python"
  },
  "orig_nbformat": 4
 },
 "nbformat": 4,
 "nbformat_minor": 2
}
