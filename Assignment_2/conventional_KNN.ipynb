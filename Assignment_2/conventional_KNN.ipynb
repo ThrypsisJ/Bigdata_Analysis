{
 "cells": [
  {
   "cell_type": "markdown",
   "metadata": {},
   "source": [
    "# 데이터셋 불러오기"
   ]
  },
  {
   "cell_type": "code",
   "execution_count": 1,
   "metadata": {},
   "outputs": [
    {
     "name": "stdout",
     "output_type": "stream",
     "text": [
      "훈련셋\n"
     ]
    },
    {
     "data": {
      "text/html": [
       "<div>\n",
       "<style scoped>\n",
       "    .dataframe tbody tr th:only-of-type {\n",
       "        vertical-align: middle;\n",
       "    }\n",
       "\n",
       "    .dataframe tbody tr th {\n",
       "        vertical-align: top;\n",
       "    }\n",
       "\n",
       "    .dataframe thead th {\n",
       "        text-align: right;\n",
       "    }\n",
       "</style>\n",
       "<table border=\"1\" class=\"dataframe\">\n",
       "  <thead>\n",
       "    <tr style=\"text-align: right;\">\n",
       "      <th></th>\n",
       "      <th>data</th>\n",
       "      <th>labels</th>\n",
       "    </tr>\n",
       "  </thead>\n",
       "  <tbody>\n",
       "    <tr>\n",
       "      <th>0</th>\n",
       "      <td>[101, 115, 109, 78, 163, 159, 6, 143, 62, 82]</td>\n",
       "      <td>0</td>\n",
       "    </tr>\n",
       "    <tr>\n",
       "      <th>1</th>\n",
       "      <td>[98, 161, 29, 155, 12, 76, 108, 89, 126, 87]</td>\n",
       "      <td>1</td>\n",
       "    </tr>\n",
       "    <tr>\n",
       "      <th>2</th>\n",
       "      <td>[100, 55, 158, 55, 185, 176, 89, 147, 20, 1]</td>\n",
       "      <td>0</td>\n",
       "    </tr>\n",
       "    <tr>\n",
       "      <th>3</th>\n",
       "      <td>[75, 16, 190, 67, 88, 180, 97, 123, 87, 95]</td>\n",
       "      <td>0</td>\n",
       "    </tr>\n",
       "    <tr>\n",
       "      <th>4</th>\n",
       "      <td>[10, 84, 170, 66, 113, 146, 66, 169, 77, 46]</td>\n",
       "      <td>0</td>\n",
       "    </tr>\n",
       "    <tr>\n",
       "      <th>...</th>\n",
       "      <td>...</td>\n",
       "      <td>...</td>\n",
       "    </tr>\n",
       "    <tr>\n",
       "      <th>7995</th>\n",
       "      <td>[28, 64, 147, 63, 113, 121, 27, 167, 22, 112]</td>\n",
       "      <td>0</td>\n",
       "    </tr>\n",
       "    <tr>\n",
       "      <th>7996</th>\n",
       "      <td>[62, 38, 147, 16, 119, 174, 3, 119, 81, 16]</td>\n",
       "      <td>0</td>\n",
       "    </tr>\n",
       "    <tr>\n",
       "      <th>7997</th>\n",
       "      <td>[96, 52, 155, 85, 191, 158, 33, 122, 25, 99]</td>\n",
       "      <td>0</td>\n",
       "    </tr>\n",
       "    <tr>\n",
       "      <th>7998</th>\n",
       "      <td>[42, 72, 196, 31, 175, 107, 68, 165, 69, 70]</td>\n",
       "      <td>0</td>\n",
       "    </tr>\n",
       "    <tr>\n",
       "      <th>7999</th>\n",
       "      <td>[110, 84, 197, 114, 145, 89, 13, 174, 58, 76]</td>\n",
       "      <td>0</td>\n",
       "    </tr>\n",
       "  </tbody>\n",
       "</table>\n",
       "<p>8000 rows × 2 columns</p>\n",
       "</div>"
      ],
      "text/plain": [
       "                                               data  labels\n",
       "0     [101, 115, 109, 78, 163, 159, 6, 143, 62, 82]       0\n",
       "1      [98, 161, 29, 155, 12, 76, 108, 89, 126, 87]       1\n",
       "2      [100, 55, 158, 55, 185, 176, 89, 147, 20, 1]       0\n",
       "3       [75, 16, 190, 67, 88, 180, 97, 123, 87, 95]       0\n",
       "4      [10, 84, 170, 66, 113, 146, 66, 169, 77, 46]       0\n",
       "...                                             ...     ...\n",
       "7995  [28, 64, 147, 63, 113, 121, 27, 167, 22, 112]       0\n",
       "7996    [62, 38, 147, 16, 119, 174, 3, 119, 81, 16]       0\n",
       "7997   [96, 52, 155, 85, 191, 158, 33, 122, 25, 99]       0\n",
       "7998   [42, 72, 196, 31, 175, 107, 68, 165, 69, 70]       0\n",
       "7999  [110, 84, 197, 114, 145, 89, 13, 174, 58, 76]       0\n",
       "\n",
       "[8000 rows x 2 columns]"
      ]
     },
     "metadata": {},
     "output_type": "display_data"
    },
    {
     "name": "stdout",
     "output_type": "stream",
     "text": [
      "시험셋\n"
     ]
    },
    {
     "data": {
      "text/html": [
       "<div>\n",
       "<style scoped>\n",
       "    .dataframe tbody tr th:only-of-type {\n",
       "        vertical-align: middle;\n",
       "    }\n",
       "\n",
       "    .dataframe tbody tr th {\n",
       "        vertical-align: top;\n",
       "    }\n",
       "\n",
       "    .dataframe thead th {\n",
       "        text-align: right;\n",
       "    }\n",
       "</style>\n",
       "<table border=\"1\" class=\"dataframe\">\n",
       "  <thead>\n",
       "    <tr style=\"text-align: right;\">\n",
       "      <th></th>\n",
       "      <th>data</th>\n",
       "      <th>labels</th>\n",
       "    </tr>\n",
       "  </thead>\n",
       "  <tbody>\n",
       "    <tr>\n",
       "      <th>0</th>\n",
       "      <td>[187, 174, 26, 190, 9, 77, 150, 77, 188, 111]</td>\n",
       "      <td>1</td>\n",
       "    </tr>\n",
       "    <tr>\n",
       "      <th>1</th>\n",
       "      <td>[81, 57, 95, 27, 148, 140, 47, 182, 93, 31]</td>\n",
       "      <td>0</td>\n",
       "    </tr>\n",
       "    <tr>\n",
       "      <th>2</th>\n",
       "      <td>[172, 114, 47, 105, 85, 54, 136, 58, 197, 87]</td>\n",
       "      <td>1</td>\n",
       "    </tr>\n",
       "    <tr>\n",
       "      <th>3</th>\n",
       "      <td>[76, 38, 167, 51, 176, 118, 10, 150, 56, 78]</td>\n",
       "      <td>0</td>\n",
       "    </tr>\n",
       "    <tr>\n",
       "      <th>4</th>\n",
       "      <td>[115, 34, 192, 30, 100, 87, 99, 90, 113, 47]</td>\n",
       "      <td>0</td>\n",
       "    </tr>\n",
       "    <tr>\n",
       "      <th>...</th>\n",
       "      <td>...</td>\n",
       "      <td>...</td>\n",
       "    </tr>\n",
       "    <tr>\n",
       "      <th>1995</th>\n",
       "      <td>[47, 63, 133, 21, 185, 89, 110, 111, 13, 27]</td>\n",
       "      <td>0</td>\n",
       "    </tr>\n",
       "    <tr>\n",
       "      <th>1996</th>\n",
       "      <td>[69, 98, 136, 49, 110, 190, 49, 144, 64, 83]</td>\n",
       "      <td>0</td>\n",
       "    </tr>\n",
       "    <tr>\n",
       "      <th>1997</th>\n",
       "      <td>[154, 124, 15, 100, 52, 11, 199, 19, 99, 92]</td>\n",
       "      <td>1</td>\n",
       "    </tr>\n",
       "    <tr>\n",
       "      <th>1998</th>\n",
       "      <td>[178, 115, 36, 150, 58, 80, 128, 62, 186, 142]</td>\n",
       "      <td>1</td>\n",
       "    </tr>\n",
       "    <tr>\n",
       "      <th>1999</th>\n",
       "      <td>[42, 84, 97, 83, 176, 159, 101, 118, 32, 38]</td>\n",
       "      <td>0</td>\n",
       "    </tr>\n",
       "  </tbody>\n",
       "</table>\n",
       "<p>2000 rows × 2 columns</p>\n",
       "</div>"
      ],
      "text/plain": [
       "                                                data  labels\n",
       "0      [187, 174, 26, 190, 9, 77, 150, 77, 188, 111]       1\n",
       "1        [81, 57, 95, 27, 148, 140, 47, 182, 93, 31]       0\n",
       "2      [172, 114, 47, 105, 85, 54, 136, 58, 197, 87]       1\n",
       "3       [76, 38, 167, 51, 176, 118, 10, 150, 56, 78]       0\n",
       "4       [115, 34, 192, 30, 100, 87, 99, 90, 113, 47]       0\n",
       "...                                              ...     ...\n",
       "1995    [47, 63, 133, 21, 185, 89, 110, 111, 13, 27]       0\n",
       "1996    [69, 98, 136, 49, 110, 190, 49, 144, 64, 83]       0\n",
       "1997    [154, 124, 15, 100, 52, 11, 199, 19, 99, 92]       1\n",
       "1998  [178, 115, 36, 150, 58, 80, 128, 62, 186, 142]       1\n",
       "1999    [42, 84, 97, 83, 176, 159, 101, 118, 32, 38]       0\n",
       "\n",
       "[2000 rows x 2 columns]"
      ]
     },
     "metadata": {},
     "output_type": "display_data"
    }
   ],
   "source": [
    "from tqdm.notebook import tqdm\n",
    "import numpy as np\n",
    "import pickle\n",
    "\n",
    "with open('./dataset.pkl', 'rb') as file: # 데이터셋 파일 불러오기\n",
    "    dataset = pickle.load(file)\n",
    "\n",
    "# 데이터셋을 훈련셋과 시험셋으로 나눔\n",
    "trainset = dataset.iloc[:8000].reset_index(drop=True)\n",
    "testset = dataset.iloc[8000:].reset_index(drop=True)\n",
    "\n",
    "print('훈련셋')\n",
    "display(trainset)\n",
    "\n",
    "print('시험셋')\n",
    "display(testset)"
   ]
  },
  {
   "cell_type": "markdown",
   "metadata": {},
   "source": [
    "# 시험셋 2000개에 대하여 예측을 수행 (Conventional KNN)"
   ]
  },
  {
   "cell_type": "code",
   "execution_count": 2,
   "metadata": {},
   "outputs": [
    {
     "data": {
      "application/vnd.jupyter.widget-view+json": {
       "model_id": "8ccaf60f024f4f5cbafaa483fa217ad4",
       "version_major": 2,
       "version_minor": 0
      },
      "text/plain": [
       "  0%|          | 0/2000 [00:00<?, ?it/s]"
      ]
     },
     "metadata": {},
     "output_type": "display_data"
    }
   ],
   "source": [
    "predicts = [0 for _ in range(len(testset))]\n",
    "for idx in tqdm(range(len(testset))):\n",
    "    input = testset['data'].iloc[idx]\n",
    "    distances = trainset['data'].apply(lambda x: np.linalg.norm(input-x))\n",
    "    distances.sort_values(ascending=True, inplace=True)\n",
    "    indices = distances[:10].index\n",
    "\n",
    "    neighbors = trainset.iloc[indices]['labels']\n",
    "    count = neighbors.value_counts()\n",
    "    key = count.keys()[0]\n",
    "\n",
    "    predict = key if count.loc[key] >= 5 else ~key\n",
    "    predicts[idx] = predict\n",
    "\n",
    "predicts = np.array(predicts)"
   ]
  },
  {
   "cell_type": "markdown",
   "metadata": {},
   "source": [
    "# Classification 성능 측정"
   ]
  },
  {
   "cell_type": "code",
   "execution_count": 18,
   "metadata": {},
   "outputs": [
    {
     "name": "stdout",
     "output_type": "stream",
     "text": [
      "Accuracy  : 100.00%\n",
      "Precision : 100.00%\n",
      "Recall    : 100.00%\n",
      "F1 score  : 1.00\n"
     ]
    }
   ],
   "source": [
    "GT = testset['labels'].to_numpy()\n",
    "TP = ((predicts == 1) & (GT == 1)).sum()\n",
    "FP = ((predicts == 1) & (GT == 0)).sum()\n",
    "TN = ((predicts == 0) & (GT == 0)).sum()\n",
    "FN = ((predicts == 0) & (GT == 1)).sum()\n",
    "\n",
    "accuracy = (TP+TN) / (TP+FP+TN+FN)\n",
    "precision = TP / (TP+FP)\n",
    "recall = TP / (TP+FN)\n",
    "f1 = 2 * precision * recall / (precision + recall)\n",
    "\n",
    "print(f'{\"Accuracy\":10s}: {accuracy*100:3.2f}%')\n",
    "print(f'{\"Precision\":10s}: {precision*100:3.2f}%')\n",
    "print(f'{\"Recall\":10s}: {recall*100:3.2f}%')\n",
    "print(f'{\"F1 score\":10s}: {f1:3.2f}')"
   ]
  },
  {
   "cell_type": "code",
   "execution_count": null,
   "metadata": {},
   "outputs": [],
   "source": []
  }
 ],
 "metadata": {
  "language_info": {
   "name": "python"
  },
  "orig_nbformat": 4
 },
 "nbformat": 4,
 "nbformat_minor": 2
}
