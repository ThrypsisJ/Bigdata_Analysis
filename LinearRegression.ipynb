{
 "cells": [
  {
   "cell_type": "code",
   "execution_count": 5,
   "metadata": {},
   "outputs": [
    {
     "data": {
      "image/png": "[encoded data removed]",
      "text/plain": [
       "<Figure size 432x288 with 1 Axes>"
      ]
     },
     "metadata": {
      "needs_background": "light"
     },
     "output_type": "display_data"
    }
   ],
   "source": [
    "import numpy as np\n",
    "import matplotlib.pyplot as plt\n",
    "\n",
    "datas = [(3, 5), (2, 2), (1, 4), (4, 2.4), (-3, 0.2), (10, 4), (4, 7), (-4, -0.5), (3, 6), (8, 8), (9, 8.5), (1,1), (0.5, 0), (-2, -1), (0,0), (0, 1), (-1, 3)]\n",
    "\n",
    "X = np.array([[data[0]] for data in datas])\n",
    "Y = np.array([[data[1]] for data in datas])\n",
    "\n",
    "XtX = np.matmul(X.transpose(), X)\n",
    "invXtX = np.linalg.inv(XtX)\n",
    "XtY = np.matmul(X.transpose(), Y)\n",
    "B = np.matmul(invXtX, XtY)\n",
    "\n",
    "def linReg(input):\n",
    "    input = np.array([[input]])\n",
    "    return np.matmul(input, B).item()\n",
    "\n",
    "x = [data[0] for data in datas]\n",
    "y = [data[1] for data in datas]\n",
    "\n",
    "plt.scatter(x, y)\n",
    "\n",
    "x2 = [x for x in range(10)]\n",
    "y2 = [linReg(x) for x in range(10)]\n",
    "\n",
    "plt.plot(x2, y2)\n",
    "plt.show()"
   ]
  },
  {
   "cell_type": "code",
   "execution_count": null,
   "metadata": {},
   "outputs": [],
   "source": []
  }
 ],
 "metadata": {
  "kernelspec": {
   "display_name": "Python 3.9.6 64-bit",
   "language": "python",
   "name": "python3"
  },
  "language_info": {
   "codemirror_mode": {
    "name": "ipython",
    "version": 3
   },
   "file_extension": ".py",
   "mimetype": "text/x-python",
   "name": "python",
   "nbconvert_exporter": "python",
   "pygments_lexer": "ipython3",
   "version": "3.9.6"
  },
  "orig_nbformat": 4,
  "vscode": {
   "interpreter": {
    "hash": "aee8b7b246df8f9039afb4144a1f6fd8d2ca17a180786b69acc140d282b71a49"
   }
  }
 },
 "nbformat": 4,
 "nbformat_minor": 2
}
